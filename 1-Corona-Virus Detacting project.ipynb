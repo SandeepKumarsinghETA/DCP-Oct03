{
 "cells": [
  {
   "cell_type": "code",
   "execution_count": null,
   "id": "89e8dff6",
   "metadata": {},
   "outputs": [],
   "source": [
    "import pandas as pd\n",
    "import numpy as np\n",
    "import seaborn as sns\n",
    "import matplotlib.pyplot as plt"
   ]
  },
  {
   "cell_type": "code",
   "execution_count": null,
   "id": "367c03f8",
   "metadata": {},
   "outputs": [],
   "source": [
    "data=pd.read_json(r\"https://www.mohfw.gov.in/data/datanew.json\")"
   ]
  },
  {
   "cell_type": "code",
   "execution_count": null,
   "id": "0d5c85c2",
   "metadata": {},
   "outputs": [],
   "source": [
    "data.head()"
   ]
  },
  {
   "cell_type": "code",
   "execution_count": null,
   "id": "ea6a0626",
   "metadata": {},
   "outputs": [],
   "source": [
    "data.columns"
   ]
  },
  {
   "cell_type": "code",
   "execution_count": null,
   "id": "946a6efd",
   "metadata": {},
   "outputs": [],
   "source": [
    "data"
   ]
  },
  {
   "cell_type": "code",
   "execution_count": null,
   "id": "642499cd",
   "metadata": {},
   "outputs": [],
   "source": [
    "data.describe()"
   ]
  },
  {
   "cell_type": "code",
   "execution_count": null,
   "id": "36d12bbc",
   "metadata": {},
   "outputs": [],
   "source": [
    "data.isnull().sum()"
   ]
  },
  {
   "cell_type": "markdown",
   "id": "9a896964",
   "metadata": {},
   "source": [
    "# Here We are using pie plot.\n",
    "\n",
    "# 1. Top seven states where active cases have been reported maximum\n",
    "\n"
   ]
  },
  {
   "cell_type": "code",
   "execution_count": null,
   "id": "34922f95",
   "metadata": {},
   "outputs": [],
   "source": [
    "data.columns"
   ]
  },
  {
   "cell_type": "code",
   "execution_count": null,
   "id": "543c491b",
   "metadata": {},
   "outputs": [],
   "source": [
    "data.sort_values(\"active\")"
   ]
  },
  {
   "cell_type": "code",
   "execution_count": null,
   "id": "18a1dcbd",
   "metadata": {},
   "outputs": [],
   "source": [
    "x=data.drop(axis=0,labels=36)"
   ]
  },
  {
   "cell_type": "code",
   "execution_count": null,
   "id": "b0ead427",
   "metadata": {},
   "outputs": [],
   "source": [
    "x"
   ]
  },
  {
   "cell_type": "code",
   "execution_count": null,
   "id": "0e8d300a",
   "metadata": {},
   "outputs": [],
   "source": [
    "y=x.sort_values(\"active\").tail(7)"
   ]
  },
  {
   "cell_type": "code",
   "execution_count": null,
   "id": "a65a4fec",
   "metadata": {},
   "outputs": [],
   "source": [
    "y"
   ]
  },
  {
   "cell_type": "code",
   "execution_count": null,
   "id": "84c8eb9f",
   "metadata": {},
   "outputs": [],
   "source": [
    "colors=(\"orange\",\"brown\",\"green\",\"blue\",\"violet\",\"yellow\",\"purple\")\n",
    "explode=[0,0,0,0,0,0,0]\n",
    "plt.pie(y.active,labels=y.state_name, colors=colors,explode=explode, radius=1.1,startangle=180 ,autopct='%.3f')\n",
    "plt.title(\"Pie Chart Of Active Cases\",color=\"black\",fontsize=30)\n",
    "plt.show()\n"
   ]
  },
  {
   "cell_type": "markdown",
   "id": "89fe31b5",
   "metadata": {},
   "source": [
    "# 2-Top seven states where cured cases have been reported maximum"
   ]
  },
  {
   "cell_type": "code",
   "execution_count": null,
   "id": "2f2d0cf0",
   "metadata": {},
   "outputs": [],
   "source": [
    "data=pd.read_json(r\"https://www.mohfw.gov.in/data/datanew.json\")"
   ]
  },
  {
   "cell_type": "code",
   "execution_count": null,
   "id": "ab80d24b",
   "metadata": {},
   "outputs": [],
   "source": [
    "data.head()"
   ]
  },
  {
   "cell_type": "code",
   "execution_count": null,
   "id": "f38ece05",
   "metadata": {},
   "outputs": [],
   "source": [
    "data.sort_values(\"cured\")"
   ]
  },
  {
   "cell_type": "code",
   "execution_count": null,
   "id": "52acf89a",
   "metadata": {},
   "outputs": [],
   "source": [
    "a=data.drop(axis=0,labels=36)"
   ]
  },
  {
   "cell_type": "code",
   "execution_count": null,
   "id": "bf8fe8bf",
   "metadata": {},
   "outputs": [],
   "source": [
    "a.tail()"
   ]
  },
  {
   "cell_type": "code",
   "execution_count": null,
   "id": "b60e20d0",
   "metadata": {},
   "outputs": [],
   "source": [
    "b=a.sort_values(\"cured\").tail(7)"
   ]
  },
  {
   "cell_type": "code",
   "execution_count": null,
   "id": "346f3a87",
   "metadata": {},
   "outputs": [],
   "source": [
    "b"
   ]
  },
  {
   "cell_type": "code",
   "execution_count": null,
   "id": "218b1bca",
   "metadata": {},
   "outputs": [],
   "source": [
    "colors=(\"orange\",\"brown\",\"green\",\"blue\",\"violet\",\"yellow\",\"purple\")\n",
    "explode=[0,0,0,0,0,0,0]\n",
    "plt.pie(b.cured,labels=b.state_name, colors=colors,explode=explode, radius=1.1,startangle=180 ,autopct='%.3f')\n",
    "plt.title(\"Pie Chart Of Cured Cases\",color=\"red\",fontsize=30)\n",
    "plt.show()"
   ]
  },
  {
   "cell_type": "markdown",
   "id": "320129ea",
   "metadata": {},
   "source": [
    " # 3-Top seven states where death cases have been reported maximum\n"
   ]
  },
  {
   "cell_type": "code",
   "execution_count": null,
   "id": "fcba5be6",
   "metadata": {},
   "outputs": [],
   "source": [
    "data=pd.read_json(r\"https://www.mohfw.gov.in/data/datanew.json\")"
   ]
  },
  {
   "cell_type": "code",
   "execution_count": null,
   "id": "3a58cb21",
   "metadata": {},
   "outputs": [],
   "source": [
    "data.head()"
   ]
  },
  {
   "cell_type": "code",
   "execution_count": null,
   "id": "e1c6fd63",
   "metadata": {},
   "outputs": [],
   "source": [
    "data.sort_values(\"death\")"
   ]
  },
  {
   "cell_type": "code",
   "execution_count": null,
   "id": "59cafbb2",
   "metadata": {},
   "outputs": [],
   "source": [
    "m=data.drop(axis=0,index=36)"
   ]
  },
  {
   "cell_type": "code",
   "execution_count": null,
   "id": "74f181a1",
   "metadata": {},
   "outputs": [],
   "source": [
    "m"
   ]
  },
  {
   "cell_type": "code",
   "execution_count": null,
   "id": "ea676afb",
   "metadata": {},
   "outputs": [],
   "source": [
    "n=m.sort_values(\"death\").tail(7)"
   ]
  },
  {
   "cell_type": "code",
   "execution_count": null,
   "id": "95a52904",
   "metadata": {},
   "outputs": [],
   "source": [
    "n"
   ]
  },
  {
   "cell_type": "code",
   "execution_count": null,
   "id": "92482db2",
   "metadata": {},
   "outputs": [],
   "source": [
    "colors=(\"orange\",\"brown\",\"green\",\"blue\",\"violet\",\"yellow\",\"purple\")\n",
    "explode=[0,0,0,0,0,0,0]\n",
    "plt.pie(n.death,labels=n.state_name, colors=colors,explode=explode, radius=1.1,startangle=180 ,autopct='%.3f')\n",
    "plt.title(\"Pie Chart Of Death Cases\",color=\"black\",fontsize=30)\n",
    "plt.show()"
   ]
  },
  {
   "cell_type": "code",
   "execution_count": null,
   "id": "18fb75f8",
   "metadata": {},
   "outputs": [],
   "source": []
  }
 ],
 "metadata": {
  "kernelspec": {
   "display_name": "Python 3 (ipykernel)",
   "language": "python",
   "name": "python3"
  },
  "language_info": {
   "codemirror_mode": {
    "name": "ipython",
    "version": 3
   },
   "file_extension": ".py",
   "mimetype": "text/x-python",
   "name": "python",
   "nbconvert_exporter": "python",
   "pygments_lexer": "ipython3",
   "version": "3.9.12"
  }
 },
 "nbformat": 4,
 "nbformat_minor": 5
}
